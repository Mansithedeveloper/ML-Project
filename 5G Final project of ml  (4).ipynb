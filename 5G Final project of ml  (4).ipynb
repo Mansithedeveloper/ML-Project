{
 "cells": [
  {
   "cell_type": "markdown",
   "id": "a836ae1d-3ac2-456e-8474-2b0281458d48",
   "metadata": {},
   "source": [
    "# 5G Vision: User Prediction Model\n",
    "\n",
    "                                                   By: Mansi jadhav"
   ]
  },
  {
   "cell_type": "markdown",
   "id": "8db7aa40-3155-4b6d-a5b9-f2fed61f26c1",
   "metadata": {},
   "source": [
    "# Content\n",
    "1. Introduction\n",
    "\n",
    "2. Data Explore And Data Wrangling\n",
    "\n",
    "3. Choosing Area Of Interest\n",
    "\n",
    "4. Data Visualization\n",
    "\n",
    "5. Predictions"
   ]
  },
  {
   "cell_type": "markdown",
   "id": "6ba89894-bd57-46c1-b3d2-de1b36c11d55",
   "metadata": {},
   "source": [
    "# Introduction"
   ]
  },
  {
   "cell_type": "markdown",
   "id": "b7b9aefe-a620-4878-bcc8-d1e6b00d46c5",
   "metadata": {},
   "source": [
    "#Putting machine learning techniques into work in the branch of wireless communication specially 5G is a challenging idea. Since we are looking for low latency and fast computations, we need to build a model that runs fast and performs well as it can be judged by its key metrics. In this report, our aim is to predict that the user is on 5G network or not."
   ]
  },
  {
   "cell_type": "code",
   "execution_count": 39,
   "id": "d337a745-fc79-43c9-8520-e49fd1d40699",
   "metadata": {},
   "outputs": [],
   "source": [
    "import pandas as pd\n",
    "import numpy as np\n",
    "import matplotlib.pyplot as plt\n",
    "import seaborn as sns\n",
    "import warnings\n",
    "warnings.filterwarnings('ignore')"
   ]
  },
  {
   "cell_type": "code",
   "execution_count": 40,
   "id": "ed31f134-bdc6-435c-853f-4a5249c19193",
   "metadata": {},
   "outputs": [
    {
     "data": {
      "text/plain": [
       "'C:\\\\Users\\\\Sujal Jadhav'"
      ]
     },
     "execution_count": 40,
     "metadata": {},
     "output_type": "execute_result"
    }
   ],
   "source": [
    "pwd()"
   ]
  },
  {
   "cell_type": "code",
   "execution_count": 41,
   "id": "52b5adaf-fbd2-4d92-850d-5a1015d12330",
   "metadata": {},
   "outputs": [
    {
     "data": {
      "text/plain": [
       "(19272, 38)"
      ]
     },
     "execution_count": 41,
     "metadata": {},
     "output_type": "execute_result"
    }
   ],
   "source": [
    "#Importing Data On Kaggle:\n",
    "df= pd.read_csv(\"5G Final Data.csv\")\n",
    "df.shape"
   ]
  },
  {
   "cell_type": "markdown",
   "id": "a8122d29-1429-4a52-afd7-fc76c16c5905",
   "metadata": {},
   "source": [
    "# Feature Description"
   ]
  },
  {
   "cell_type": "markdown",
   "id": "338550d4-c831-4f34-a17d-d29a89660fd0",
   "metadata": {},
   "source": [
    "# Data Exploration"
   ]
  },
  {
   "cell_type": "markdown",
   "id": "74ae0103-686e-45d0-9ad2-0f2fc3877807",
   "metadata": {},
   "source": [
    "user_id: Unique identifier for the user.\n",
    "\n",
    "chnl_type: Type of channel used.\n",
    "\n",
    "service_type: Type of service provided.\n",
    "\n",
    "product_type: Type of product associated with the service.\n",
    "\n",
    "innet_months: Number of months since the user joined the network.\n",
    "\n",
    "total_times: Total number of transactions or interactions.\n",
    "\n",
    "total_flux: Total data flux or usage.\n",
    "\n",
    "total_fee: Total fee charged to the user.\n",
    "\n",
    "pay_fee: Fee paid by the user.\n",
    "\n",
    "sex: Gender of the user (encoded as a numerical value).\n",
    "\n",
    "age: Age of the user (encoded as a numerical value).\n",
    "\n",
    "manu_name: Manufacturer name or ID (encoded as a numerical value).\n",
    "\n",
    "term_type: Type of term or subscription.\n",
    "\n",
    "max_rat_flag: Flag indicating maximum rate or plan.\n",
    "\n",
    "is_5g_base_cover: Indicator if the user is in a 5G base coverage area.\n",
    "\n",
    "is_work_5g_cover: Indicator if the user is in a 5G work coverage area\n",
    "\n",
    "is_home_5g_cover: Indicator if the user is in a 5G home coverage area.\n",
    "\n",
    "is_work_5g_cover_l01: Indicator for 5G work coverage, level 01.\n",
    "\n",
    "is_home_5g_cover_l01: Indicator for 5G home coverage, level 01.\n",
    "\n",
    "is_work_5g_cover_l02: Indicator for 5G work coverage, level 02.\n",
    "\n",
    "is_home_5g_cover_l02: Indicator for 5G home coverage, level 02.\n",
    "\n",
    "activity_type: Type of user activity.\n",
    "\n",
    "is_act_expire: Indicator if the activity is expired.\n",
    "\n",
    "comp_type: Type of compensation or plan.\n",
    "\n",
    "call_days: Number of days the user made calls.\n",
    "\n",
    "re_call10: Number of calls longer than 10 minutes.\n",
    "\n",
    "short_call10: Number of short calls (less than 10 minutes).\n",
    "\n",
    "long_call10: Number of long calls (more than 10 minutes).\n",
    "\n",
    "bank_cnt: Number of transactions or activities related to banking apps.\n",
    "\n",
    "active_days01 to active_days23: Number of active days in each month (from 01 to 23).\n",
    "\n",
    "game_app_flux: Data usage related to gaming apps.\n",
    "\n",
    "live_app_flux: Data usage related to live streaming apps.\n",
    "\n",
    "video_app_flux: Data usage related to video streaming apps.\n",
    "\n",
    "city_5g_ratio: Ratio of 5G coverage in the city.\n",
    "\n",
    "city_level: Level or tier of the city.\n",
    "\n",
    "is_5g: Indicator if the user is using 5G services."
   ]
  },
  {
   "cell_type": "code",
   "execution_count": 42,
   "id": "52726840-b330-4221-a559-54a6d6349fe5",
   "metadata": {},
   "outputs": [
    {
     "name": "stdout",
     "output_type": "stream",
     "text": [
      "<class 'pandas.core.frame.DataFrame'>\n",
      "RangeIndex: 19272 entries, 0 to 19271\n",
      "Data columns (total 38 columns):\n",
      " #   Column                Non-Null Count  Dtype  \n",
      "---  ------                --------------  -----  \n",
      " 0   prov_id               19272 non-null  int64  \n",
      " 1   chnl_type             19272 non-null  int64  \n",
      " 2   service_type          19272 non-null  int64  \n",
      " 3   product_type          19272 non-null  int64  \n",
      " 4   innet_months          19272 non-null  int64  \n",
      " 5   total_flux            19272 non-null  float64\n",
      " 6   total_fee             19272 non-null  float64\n",
      " 7   pay_fee               19272 non-null  float64\n",
      " 8   sex                   19272 non-null  int64  \n",
      " 9   age                   19272 non-null  int64  \n",
      " 10  manu_name             19272 non-null  int64  \n",
      " 11  term_type             19272 non-null  int64  \n",
      " 12  max_rat_flag          19272 non-null  int64  \n",
      " 13  is_5g_base_cover      19272 non-null  int64  \n",
      " 14  is_work_5g_cover      19272 non-null  int64  \n",
      " 15  is_home_5g_cover      19272 non-null  int64  \n",
      " 16  is_work_5g_cover_l01  19272 non-null  int64  \n",
      " 17  is_home_5g_cover_l01  19272 non-null  int64  \n",
      " 18  is_work_5g_cover_l02  19272 non-null  int64  \n",
      " 19  is_home_5g_cover_l02  19272 non-null  int64  \n",
      " 20  activity_type         19272 non-null  int64  \n",
      " 21  is_act_expire         19272 non-null  int64  \n",
      " 22  comp_type             19272 non-null  int64  \n",
      " 23  call_days             19272 non-null  float64\n",
      " 24  re_call10             19272 non-null  float64\n",
      " 25  long_call10           19272 non-null  float64\n",
      " 26  bank_cnt              19272 non-null  float64\n",
      " 27  active_days01         19272 non-null  int64  \n",
      " 28  active_days02         19272 non-null  int64  \n",
      " 29  active_days03         19272 non-null  int64  \n",
      " 30  active_days04         19272 non-null  int64  \n",
      " 31  active_days05         19272 non-null  int64  \n",
      " 32  game_app_flux         19272 non-null  float64\n",
      " 33  live_app_flux         19272 non-null  float64\n",
      " 34  video_app_flux        19272 non-null  float64\n",
      " 35  city_5g_ratio         19272 non-null  float64\n",
      " 36  city_level            19272 non-null  int64  \n",
      " 37  Target                19272 non-null  int64  \n",
      "dtypes: float64(11), int64(27)\n",
      "memory usage: 5.6 MB\n"
     ]
    }
   ],
   "source": [
    "df.info()"
   ]
  },
  {
   "cell_type": "code",
   "execution_count": 43,
   "id": "9ee32232-a959-4c75-9e46-8332067fec0a",
   "metadata": {},
   "outputs": [],
   "source": [
    "df['call_days']=df['call_days'].astype('int64')"
   ]
  },
  {
   "cell_type": "code",
   "execution_count": 44,
   "id": "1a14fe85-2f3f-42dc-b712-2632b821961f",
   "metadata": {},
   "outputs": [],
   "source": [
    "df['total_flux']=df['total_flux'].astype('int64')"
   ]
  },
  {
   "cell_type": "code",
   "execution_count": 45,
   "id": "2cf069fb-545d-40fc-a222-793730921653",
   "metadata": {},
   "outputs": [],
   "source": [
    "df['total_fee']=df['total_fee'].astype('int64')"
   ]
  },
  {
   "cell_type": "code",
   "execution_count": 46,
   "id": "c61531f8-5318-4287-b68b-c521385c2de2",
   "metadata": {},
   "outputs": [],
   "source": [
    "df['pay_fee']=df['pay_fee'].astype('int64')"
   ]
  },
  {
   "cell_type": "code",
   "execution_count": 47,
   "id": "57cf56a6-fdbb-49e7-b8b8-0142fef9b461",
   "metadata": {},
   "outputs": [],
   "source": [
    "df['call_days']=df['call_days'].astype('int64')"
   ]
  },
  {
   "cell_type": "code",
   "execution_count": 48,
   "id": "34fbcc90-58f5-4503-93e4-cfb78d76a032",
   "metadata": {},
   "outputs": [],
   "source": [
    "df['re_call10']=df['re_call10'].astype('int64')"
   ]
  },
  {
   "cell_type": "code",
   "execution_count": 49,
   "id": "f0b3fcb1-105d-4f62-96ae-feaa8e237a5b",
   "metadata": {},
   "outputs": [],
   "source": [
    "df['long_call10']=df['long_call10'].astype('int64')"
   ]
  },
  {
   "cell_type": "code",
   "execution_count": 50,
   "id": "1d0d8782-9786-4f66-90d0-b55b61b14b09",
   "metadata": {},
   "outputs": [],
   "source": [
    "df['game_app_flux']=df['game_app_flux'].astype('int64')"
   ]
  },
  {
   "cell_type": "code",
   "execution_count": 51,
   "id": "17d83d0c-7856-4326-aa87-8584b518c3ea",
   "metadata": {},
   "outputs": [],
   "source": [
    "df['bank_cnt']=df['bank_cnt'].astype('int64')"
   ]
  },
  {
   "cell_type": "code",
   "execution_count": 52,
   "id": "1aa1084f-5aa9-49db-82da-839613f30223",
   "metadata": {},
   "outputs": [],
   "source": [
    "df['video_app_flux']=df['video_app_flux'].astype('int64')"
   ]
  },
  {
   "cell_type": "code",
   "execution_count": 53,
   "id": "039b356d-a043-42dc-b95e-186a4af77948",
   "metadata": {},
   "outputs": [],
   "source": [
    "df['live_app_flux']=df['live_app_flux'].astype('int64')"
   ]
  },
  {
   "cell_type": "code",
   "execution_count": 54,
   "id": "9e5e7428-4115-4beb-a22b-ff7eabc136a0",
   "metadata": {},
   "outputs": [],
   "source": [
    "df['city_5g_ratio']=df['city_5g_ratio'].astype('int64')"
   ]
  },
  {
   "cell_type": "code",
   "execution_count": 55,
   "id": "6c345aa2-3659-4592-957a-e28d6763d320",
   "metadata": {},
   "outputs": [
    {
     "name": "stdout",
     "output_type": "stream",
     "text": [
      "<class 'pandas.core.frame.DataFrame'>\n",
      "RangeIndex: 19272 entries, 0 to 19271\n",
      "Data columns (total 38 columns):\n",
      " #   Column                Non-Null Count  Dtype\n",
      "---  ------                --------------  -----\n",
      " 0   prov_id               19272 non-null  int64\n",
      " 1   chnl_type             19272 non-null  int64\n",
      " 2   service_type          19272 non-null  int64\n",
      " 3   product_type          19272 non-null  int64\n",
      " 4   innet_months          19272 non-null  int64\n",
      " 5   total_flux            19272 non-null  int64\n",
      " 6   total_fee             19272 non-null  int64\n",
      " 7   pay_fee               19272 non-null  int64\n",
      " 8   sex                   19272 non-null  int64\n",
      " 9   age                   19272 non-null  int64\n",
      " 10  manu_name             19272 non-null  int64\n",
      " 11  term_type             19272 non-null  int64\n",
      " 12  max_rat_flag          19272 non-null  int64\n",
      " 13  is_5g_base_cover      19272 non-null  int64\n",
      " 14  is_work_5g_cover      19272 non-null  int64\n",
      " 15  is_home_5g_cover      19272 non-null  int64\n",
      " 16  is_work_5g_cover_l01  19272 non-null  int64\n",
      " 17  is_home_5g_cover_l01  19272 non-null  int64\n",
      " 18  is_work_5g_cover_l02  19272 non-null  int64\n",
      " 19  is_home_5g_cover_l02  19272 non-null  int64\n",
      " 20  activity_type         19272 non-null  int64\n",
      " 21  is_act_expire         19272 non-null  int64\n",
      " 22  comp_type             19272 non-null  int64\n",
      " 23  call_days             19272 non-null  int64\n",
      " 24  re_call10             19272 non-null  int64\n",
      " 25  long_call10           19272 non-null  int64\n",
      " 26  bank_cnt              19272 non-null  int64\n",
      " 27  active_days01         19272 non-null  int64\n",
      " 28  active_days02         19272 non-null  int64\n",
      " 29  active_days03         19272 non-null  int64\n",
      " 30  active_days04         19272 non-null  int64\n",
      " 31  active_days05         19272 non-null  int64\n",
      " 32  game_app_flux         19272 non-null  int64\n",
      " 33  live_app_flux         19272 non-null  int64\n",
      " 34  video_app_flux        19272 non-null  int64\n",
      " 35  city_5g_ratio         19272 non-null  int64\n",
      " 36  city_level            19272 non-null  int64\n",
      " 37  Target                19272 non-null  int64\n",
      "dtypes: int64(38)\n",
      "memory usage: 5.6 MB\n"
     ]
    }
   ],
   "source": [
    "df.info()"
   ]
  },
  {
   "cell_type": "code",
   "execution_count": 56,
   "id": "1210af24-fa89-489c-9eab-1210cf287d30",
   "metadata": {},
   "outputs": [
    {
     "data": {
      "text/html": [
       "<div>\n",
       "<style scoped>\n",
       "    .dataframe tbody tr th:only-of-type {\n",
       "        vertical-align: middle;\n",
       "    }\n",
       "\n",
       "    .dataframe tbody tr th {\n",
       "        vertical-align: top;\n",
       "    }\n",
       "\n",
       "    .dataframe thead th {\n",
       "        text-align: right;\n",
       "    }\n",
       "</style>\n",
       "<table border=\"1\" class=\"dataframe\">\n",
       "  <thead>\n",
       "    <tr style=\"text-align: right;\">\n",
       "      <th></th>\n",
       "      <th>prov_id</th>\n",
       "      <th>chnl_type</th>\n",
       "      <th>service_type</th>\n",
       "      <th>product_type</th>\n",
       "      <th>innet_months</th>\n",
       "      <th>total_flux</th>\n",
       "      <th>total_fee</th>\n",
       "      <th>pay_fee</th>\n",
       "      <th>sex</th>\n",
       "      <th>age</th>\n",
       "      <th>...</th>\n",
       "      <th>active_days02</th>\n",
       "      <th>active_days03</th>\n",
       "      <th>active_days04</th>\n",
       "      <th>active_days05</th>\n",
       "      <th>game_app_flux</th>\n",
       "      <th>live_app_flux</th>\n",
       "      <th>video_app_flux</th>\n",
       "      <th>city_5g_ratio</th>\n",
       "      <th>city_level</th>\n",
       "      <th>Target</th>\n",
       "    </tr>\n",
       "  </thead>\n",
       "  <tbody>\n",
       "    <tr>\n",
       "      <th>0</th>\n",
       "      <td>36</td>\n",
       "      <td>7</td>\n",
       "      <td>4</td>\n",
       "      <td>3</td>\n",
       "      <td>5</td>\n",
       "      <td>6</td>\n",
       "      <td>89</td>\n",
       "      <td>580</td>\n",
       "      <td>1</td>\n",
       "      <td>26</td>\n",
       "      <td>...</td>\n",
       "      <td>0</td>\n",
       "      <td>0</td>\n",
       "      <td>0</td>\n",
       "      <td>0</td>\n",
       "      <td>0</td>\n",
       "      <td>0</td>\n",
       "      <td>0</td>\n",
       "      <td>0</td>\n",
       "      <td>3</td>\n",
       "      <td>0</td>\n",
       "    </tr>\n",
       "    <tr>\n",
       "      <th>1</th>\n",
       "      <td>76</td>\n",
       "      <td>7</td>\n",
       "      <td>4</td>\n",
       "      <td>4</td>\n",
       "      <td>104</td>\n",
       "      <td>9</td>\n",
       "      <td>62</td>\n",
       "      <td>710</td>\n",
       "      <td>0</td>\n",
       "      <td>32</td>\n",
       "      <td>...</td>\n",
       "      <td>0</td>\n",
       "      <td>0</td>\n",
       "      <td>0</td>\n",
       "      <td>0</td>\n",
       "      <td>0</td>\n",
       "      <td>0</td>\n",
       "      <td>1235</td>\n",
       "      <td>0</td>\n",
       "      <td>3</td>\n",
       "      <td>0</td>\n",
       "    </tr>\n",
       "    <tr>\n",
       "      <th>2</th>\n",
       "      <td>84</td>\n",
       "      <td>10</td>\n",
       "      <td>4</td>\n",
       "      <td>5</td>\n",
       "      <td>15</td>\n",
       "      <td>5</td>\n",
       "      <td>75</td>\n",
       "      <td>90</td>\n",
       "      <td>0</td>\n",
       "      <td>37</td>\n",
       "      <td>...</td>\n",
       "      <td>0</td>\n",
       "      <td>0</td>\n",
       "      <td>0</td>\n",
       "      <td>0</td>\n",
       "      <td>0</td>\n",
       "      <td>9</td>\n",
       "      <td>1194</td>\n",
       "      <td>0</td>\n",
       "      <td>2</td>\n",
       "      <td>0</td>\n",
       "    </tr>\n",
       "    <tr>\n",
       "      <th>3</th>\n",
       "      <td>85</td>\n",
       "      <td>7</td>\n",
       "      <td>4</td>\n",
       "      <td>3</td>\n",
       "      <td>21</td>\n",
       "      <td>9</td>\n",
       "      <td>54</td>\n",
       "      <td>300</td>\n",
       "      <td>1</td>\n",
       "      <td>55</td>\n",
       "      <td>...</td>\n",
       "      <td>0</td>\n",
       "      <td>0</td>\n",
       "      <td>0</td>\n",
       "      <td>0</td>\n",
       "      <td>0</td>\n",
       "      <td>0</td>\n",
       "      <td>26</td>\n",
       "      <td>0</td>\n",
       "      <td>6</td>\n",
       "      <td>0</td>\n",
       "    </tr>\n",
       "    <tr>\n",
       "      <th>4</th>\n",
       "      <td>76</td>\n",
       "      <td>9</td>\n",
       "      <td>4</td>\n",
       "      <td>3</td>\n",
       "      <td>32</td>\n",
       "      <td>11</td>\n",
       "      <td>158</td>\n",
       "      <td>990</td>\n",
       "      <td>1</td>\n",
       "      <td>21</td>\n",
       "      <td>...</td>\n",
       "      <td>0</td>\n",
       "      <td>0</td>\n",
       "      <td>0</td>\n",
       "      <td>0</td>\n",
       "      <td>0</td>\n",
       "      <td>97</td>\n",
       "      <td>11664</td>\n",
       "      <td>0</td>\n",
       "      <td>5</td>\n",
       "      <td>0</td>\n",
       "    </tr>\n",
       "  </tbody>\n",
       "</table>\n",
       "<p>5 rows × 38 columns</p>\n",
       "</div>"
      ],
      "text/plain": [
       "   prov_id  chnl_type  service_type  product_type  innet_months  total_flux  \\\n",
       "0       36          7             4             3             5           6   \n",
       "1       76          7             4             4           104           9   \n",
       "2       84         10             4             5            15           5   \n",
       "3       85          7             4             3            21           9   \n",
       "4       76          9             4             3            32          11   \n",
       "\n",
       "   total_fee  pay_fee  sex  age  ...  active_days02  active_days03  \\\n",
       "0         89      580    1   26  ...              0              0   \n",
       "1         62      710    0   32  ...              0              0   \n",
       "2         75       90    0   37  ...              0              0   \n",
       "3         54      300    1   55  ...              0              0   \n",
       "4        158      990    1   21  ...              0              0   \n",
       "\n",
       "   active_days04  active_days05  game_app_flux  live_app_flux  video_app_flux  \\\n",
       "0              0              0              0              0               0   \n",
       "1              0              0              0              0            1235   \n",
       "2              0              0              0              9            1194   \n",
       "3              0              0              0              0              26   \n",
       "4              0              0              0             97           11664   \n",
       "\n",
       "   city_5g_ratio  city_level  Target  \n",
       "0              0           3       0  \n",
       "1              0           3       0  \n",
       "2              0           2       0  \n",
       "3              0           6       0  \n",
       "4              0           5       0  \n",
       "\n",
       "[5 rows x 38 columns]"
      ]
     },
     "execution_count": 56,
     "metadata": {},
     "output_type": "execute_result"
    }
   ],
   "source": [
    "df.head()"
   ]
  },
  {
   "cell_type": "code",
   "execution_count": 57,
   "id": "cfef03ea-0195-4a92-acde-94d5740df853",
   "metadata": {},
   "outputs": [
    {
     "data": {
      "text/html": [
       "<div>\n",
       "<style scoped>\n",
       "    .dataframe tbody tr th:only-of-type {\n",
       "        vertical-align: middle;\n",
       "    }\n",
       "\n",
       "    .dataframe tbody tr th {\n",
       "        vertical-align: top;\n",
       "    }\n",
       "\n",
       "    .dataframe thead th {\n",
       "        text-align: right;\n",
       "    }\n",
       "</style>\n",
       "<table border=\"1\" class=\"dataframe\">\n",
       "  <thead>\n",
       "    <tr style=\"text-align: right;\">\n",
       "      <th></th>\n",
       "      <th>prov_id</th>\n",
       "      <th>chnl_type</th>\n",
       "      <th>service_type</th>\n",
       "      <th>product_type</th>\n",
       "      <th>innet_months</th>\n",
       "      <th>total_flux</th>\n",
       "      <th>total_fee</th>\n",
       "      <th>pay_fee</th>\n",
       "      <th>sex</th>\n",
       "      <th>age</th>\n",
       "      <th>...</th>\n",
       "      <th>active_days02</th>\n",
       "      <th>active_days03</th>\n",
       "      <th>active_days04</th>\n",
       "      <th>active_days05</th>\n",
       "      <th>game_app_flux</th>\n",
       "      <th>live_app_flux</th>\n",
       "      <th>video_app_flux</th>\n",
       "      <th>city_5g_ratio</th>\n",
       "      <th>city_level</th>\n",
       "      <th>Target</th>\n",
       "    </tr>\n",
       "  </thead>\n",
       "  <tbody>\n",
       "    <tr>\n",
       "      <th>0</th>\n",
       "      <td>36</td>\n",
       "      <td>7</td>\n",
       "      <td>4</td>\n",
       "      <td>3</td>\n",
       "      <td>5</td>\n",
       "      <td>6</td>\n",
       "      <td>89</td>\n",
       "      <td>580</td>\n",
       "      <td>1</td>\n",
       "      <td>26</td>\n",
       "      <td>...</td>\n",
       "      <td>0</td>\n",
       "      <td>0</td>\n",
       "      <td>0</td>\n",
       "      <td>0</td>\n",
       "      <td>0</td>\n",
       "      <td>0</td>\n",
       "      <td>0</td>\n",
       "      <td>0</td>\n",
       "      <td>3</td>\n",
       "      <td>0</td>\n",
       "    </tr>\n",
       "    <tr>\n",
       "      <th>1</th>\n",
       "      <td>76</td>\n",
       "      <td>7</td>\n",
       "      <td>4</td>\n",
       "      <td>4</td>\n",
       "      <td>104</td>\n",
       "      <td>9</td>\n",
       "      <td>62</td>\n",
       "      <td>710</td>\n",
       "      <td>0</td>\n",
       "      <td>32</td>\n",
       "      <td>...</td>\n",
       "      <td>0</td>\n",
       "      <td>0</td>\n",
       "      <td>0</td>\n",
       "      <td>0</td>\n",
       "      <td>0</td>\n",
       "      <td>0</td>\n",
       "      <td>1235</td>\n",
       "      <td>0</td>\n",
       "      <td>3</td>\n",
       "      <td>0</td>\n",
       "    </tr>\n",
       "  </tbody>\n",
       "</table>\n",
       "<p>2 rows × 38 columns</p>\n",
       "</div>"
      ],
      "text/plain": [
       "   prov_id  chnl_type  service_type  product_type  innet_months  total_flux  \\\n",
       "0       36          7             4             3             5           6   \n",
       "1       76          7             4             4           104           9   \n",
       "\n",
       "   total_fee  pay_fee  sex  age  ...  active_days02  active_days03  \\\n",
       "0         89      580    1   26  ...              0              0   \n",
       "1         62      710    0   32  ...              0              0   \n",
       "\n",
       "   active_days04  active_days05  game_app_flux  live_app_flux  video_app_flux  \\\n",
       "0              0              0              0              0               0   \n",
       "1              0              0              0              0            1235   \n",
       "\n",
       "   city_5g_ratio  city_level  Target  \n",
       "0              0           3       0  \n",
       "1              0           3       0  \n",
       "\n",
       "[2 rows x 38 columns]"
      ]
     },
     "execution_count": 57,
     "metadata": {},
     "output_type": "execute_result"
    }
   ],
   "source": [
    "df.head(2)"
   ]
  },
  {
   "cell_type": "code",
   "execution_count": 58,
   "id": "7c7c2e8b-34a7-4f72-bbfa-bf3137b5820d",
   "metadata": {},
   "outputs": [
    {
     "name": "stdout",
     "output_type": "stream",
     "text": [
      "31  Categories\n"
     ]
    },
    {
     "data": {
      "text/plain": [
       "(prov_id\n",
       " 51    4829\n",
       " 11    1679\n",
       " 81    1115\n",
       " 85    1104\n",
       " 71    1009\n",
       " 76     961\n",
       " 31     941\n",
       " 17     797\n",
       " 34     664\n",
       " 36     560\n",
       " 74     521\n",
       " 91     486\n",
       " 18     421\n",
       " 83     408\n",
       " 84     386\n",
       " 38     377\n",
       " 19     332\n",
       " 89     330\n",
       " 75     292\n",
       " 10     287\n",
       " 30     285\n",
       " 90     277\n",
       " 59     250\n",
       " 97     206\n",
       " 87     166\n",
       " 13     161\n",
       " 86     157\n",
       " 50     110\n",
       " 88      74\n",
       " 70      73\n",
       " 79      14\n",
       " Name: count, dtype: int64,\n",
       " None)"
      ]
     },
     "execution_count": 58,
     "metadata": {},
     "output_type": "execute_result"
    }
   ],
   "source": [
    "df.prov_id.value_counts(),print(df.prov_id.value_counts().count(),\" Categories\")"
   ]
  },
  {
   "cell_type": "code",
   "execution_count": 59,
   "id": "b9be0095-4384-435a-8348-96247d2e0641",
   "metadata": {},
   "outputs": [
    {
     "data": {
      "text/plain": [
       "prov_id                   31\n",
       "chnl_type                 10\n",
       "service_type               5\n",
       "product_type               5\n",
       "innet_months             256\n",
       "total_flux                13\n",
       "total_fee                455\n",
       "pay_fee                 1887\n",
       "sex                        2\n",
       "age                       43\n",
       "manu_name                 12\n",
       "term_type                  6\n",
       "max_rat_flag               4\n",
       "is_5g_base_cover           2\n",
       "is_work_5g_cover           2\n",
       "is_home_5g_cover           2\n",
       "is_work_5g_cover_l01       2\n",
       "is_home_5g_cover_l01       2\n",
       "is_work_5g_cover_l02       2\n",
       "is_home_5g_cover_l02       2\n",
       "activity_type             10\n",
       "is_act_expire              3\n",
       "comp_type                  7\n",
       "call_days                 31\n",
       "re_call10                330\n",
       "long_call10               90\n",
       "bank_cnt                 173\n",
       "active_days01             31\n",
       "active_days02             31\n",
       "active_days03             28\n",
       "active_days04              3\n",
       "active_days05             31\n",
       "game_app_flux             14\n",
       "live_app_flux           1697\n",
       "video_app_flux          8495\n",
       "city_5g_ratio              1\n",
       "city_level                 7\n",
       "Target                     2\n",
       "dtype: int64"
      ]
     },
     "execution_count": 59,
     "metadata": {},
     "output_type": "execute_result"
    }
   ],
   "source": [
    "df.nunique()"
   ]
  },
  {
   "cell_type": "code",
   "execution_count": 60,
   "id": "0a6c298c-f2e0-4125-b824-519de96b0694",
   "metadata": {},
   "outputs": [],
   "source": [
    "assert df.isnull().sum().sum()==0 , df_test.isnull().sum().sum() == 0"
   ]
  },
  {
   "cell_type": "markdown",
   "id": "ef61a752-2816-4c67-beb9-086c0cf05932",
   "metadata": {},
   "source": [
    "# Data Visualization"
   ]
  },
  {
   "cell_type": "code",
   "execution_count": 61,
   "id": "7f289de5-fecf-4029-baf3-5cdd4fd4efb2",
   "metadata": {},
   "outputs": [
    {
     "data": {
      "text/plain": [
       "38"
      ]
     },
     "execution_count": 61,
     "metadata": {},
     "output_type": "execute_result"
    }
   ],
   "source": [
    "df.columns.shape[0]"
   ]
  },
  {
   "cell_type": "code",
   "execution_count": 62,
   "id": "dfca1aa5-9f90-4d8e-b55e-f5a5257ef7e4",
   "metadata": {},
   "outputs": [
    {
     "data": {
      "text/plain": [
       "prov_id                 19272\n",
       "chnl_type               19272\n",
       "service_type            19272\n",
       "product_type            19272\n",
       "innet_months            19272\n",
       "total_flux              19272\n",
       "total_fee               19272\n",
       "pay_fee                 19272\n",
       "sex                     19272\n",
       "age                     19272\n",
       "manu_name               19272\n",
       "term_type               19272\n",
       "max_rat_flag            19272\n",
       "is_5g_base_cover        19272\n",
       "is_work_5g_cover        19272\n",
       "is_home_5g_cover        19272\n",
       "is_work_5g_cover_l01    19272\n",
       "is_home_5g_cover_l01    19272\n",
       "is_work_5g_cover_l02    19272\n",
       "is_home_5g_cover_l02    19272\n",
       "activity_type           19272\n",
       "is_act_expire           19272\n",
       "comp_type               19272\n",
       "call_days               19272\n",
       "re_call10               19272\n",
       "long_call10             19272\n",
       "bank_cnt                19272\n",
       "active_days01           19272\n",
       "active_days02           19272\n",
       "active_days03           19272\n",
       "active_days04           19272\n",
       "active_days05           19272\n",
       "game_app_flux           19272\n",
       "live_app_flux           19272\n",
       "video_app_flux          19272\n",
       "city_5g_ratio           19272\n",
       "city_level              19272\n",
       "Target                  19272\n",
       "dtype: int64"
      ]
     },
     "execution_count": 62,
     "metadata": {},
     "output_type": "execute_result"
    }
   ],
   "source": [
    "df.count()"
   ]
  },
  {
   "cell_type": "code",
   "execution_count": 63,
   "id": "7dba1d56-4266-4c1d-a298-ce9da86b1532",
   "metadata": {},
   "outputs": [
    {
     "data": {
      "text/html": [
       "<div>\n",
       "<style scoped>\n",
       "    .dataframe tbody tr th:only-of-type {\n",
       "        vertical-align: middle;\n",
       "    }\n",
       "\n",
       "    .dataframe tbody tr th {\n",
       "        vertical-align: top;\n",
       "    }\n",
       "\n",
       "    .dataframe thead th {\n",
       "        text-align: right;\n",
       "    }\n",
       "</style>\n",
       "<table border=\"1\" class=\"dataframe\">\n",
       "  <thead>\n",
       "    <tr style=\"text-align: right;\">\n",
       "      <th></th>\n",
       "      <th>count</th>\n",
       "      <th>mean</th>\n",
       "      <th>std</th>\n",
       "      <th>min</th>\n",
       "      <th>25%</th>\n",
       "      <th>50%</th>\n",
       "      <th>75%</th>\n",
       "      <th>max</th>\n",
       "    </tr>\n",
       "  </thead>\n",
       "  <tbody>\n",
       "    <tr>\n",
       "      <th>prov_id</th>\n",
       "      <td>19272.0</td>\n",
       "      <td>53.286166</td>\n",
       "      <td>26.115806</td>\n",
       "      <td>10.0</td>\n",
       "      <td>31.0</td>\n",
       "      <td>51.0</td>\n",
       "      <td>76.0</td>\n",
       "      <td>97.0</td>\n",
       "    </tr>\n",
       "    <tr>\n",
       "      <th>chnl_type</th>\n",
       "      <td>19272.0</td>\n",
       "      <td>7.156289</td>\n",
       "      <td>2.534053</td>\n",
       "      <td>1.0</td>\n",
       "      <td>7.0</td>\n",
       "      <td>7.0</td>\n",
       "      <td>9.0</td>\n",
       "      <td>10.0</td>\n",
       "    </tr>\n",
       "    <tr>\n",
       "      <th>service_type</th>\n",
       "      <td>19272.0</td>\n",
       "      <td>3.958541</td>\n",
       "      <td>0.335401</td>\n",
       "      <td>1.0</td>\n",
       "      <td>4.0</td>\n",
       "      <td>4.0</td>\n",
       "      <td>4.0</td>\n",
       "      <td>5.0</td>\n",
       "    </tr>\n",
       "    <tr>\n",
       "      <th>product_type</th>\n",
       "      <td>19272.0</td>\n",
       "      <td>3.775114</td>\n",
       "      <td>1.249012</td>\n",
       "      <td>2.0</td>\n",
       "      <td>3.0</td>\n",
       "      <td>4.0</td>\n",
       "      <td>5.0</td>\n",
       "      <td>6.0</td>\n",
       "    </tr>\n",
       "    <tr>\n",
       "      <th>innet_months</th>\n",
       "      <td>19272.0</td>\n",
       "      <td>56.651048</td>\n",
       "      <td>44.412200</td>\n",
       "      <td>1.0</td>\n",
       "      <td>23.0</td>\n",
       "      <td>40.0</td>\n",
       "      <td>83.0</td>\n",
       "      <td>272.0</td>\n",
       "    </tr>\n",
       "    <tr>\n",
       "      <th>total_flux</th>\n",
       "      <td>19272.0</td>\n",
       "      <td>8.662308</td>\n",
       "      <td>1.969229</td>\n",
       "      <td>0.0</td>\n",
       "      <td>8.0</td>\n",
       "      <td>9.0</td>\n",
       "      <td>10.0</td>\n",
       "      <td>12.0</td>\n",
       "    </tr>\n",
       "    <tr>\n",
       "      <th>total_fee</th>\n",
       "      <td>19272.0</td>\n",
       "      <td>114.323526</td>\n",
       "      <td>75.003927</td>\n",
       "      <td>50.0</td>\n",
       "      <td>69.0</td>\n",
       "      <td>98.0</td>\n",
       "      <td>130.0</td>\n",
       "      <td>3000.0</td>\n",
       "    </tr>\n",
       "    <tr>\n",
       "      <th>pay_fee</th>\n",
       "      <td>19272.0</td>\n",
       "      <td>735.991335</td>\n",
       "      <td>1287.265573</td>\n",
       "      <td>0.0</td>\n",
       "      <td>405.0</td>\n",
       "      <td>600.0</td>\n",
       "      <td>860.0</td>\n",
       "      <td>86320.0</td>\n",
       "    </tr>\n",
       "    <tr>\n",
       "      <th>sex</th>\n",
       "      <td>19272.0</td>\n",
       "      <td>0.708956</td>\n",
       "      <td>0.454256</td>\n",
       "      <td>0.0</td>\n",
       "      <td>0.0</td>\n",
       "      <td>1.0</td>\n",
       "      <td>1.0</td>\n",
       "      <td>1.0</td>\n",
       "    </tr>\n",
       "    <tr>\n",
       "      <th>age</th>\n",
       "      <td>19272.0</td>\n",
       "      <td>34.131590</td>\n",
       "      <td>10.221831</td>\n",
       "      <td>18.0</td>\n",
       "      <td>26.0</td>\n",
       "      <td>32.0</td>\n",
       "      <td>41.0</td>\n",
       "      <td>60.0</td>\n",
       "    </tr>\n",
       "    <tr>\n",
       "      <th>manu_name</th>\n",
       "      <td>19272.0</td>\n",
       "      <td>4.140048</td>\n",
       "      <td>2.053347</td>\n",
       "      <td>1.0</td>\n",
       "      <td>2.0</td>\n",
       "      <td>4.0</td>\n",
       "      <td>5.0</td>\n",
       "      <td>12.0</td>\n",
       "    </tr>\n",
       "    <tr>\n",
       "      <th>term_type</th>\n",
       "      <td>19272.0</td>\n",
       "      <td>3.977377</td>\n",
       "      <td>0.383223</td>\n",
       "      <td>0.0</td>\n",
       "      <td>4.0</td>\n",
       "      <td>4.0</td>\n",
       "      <td>4.0</td>\n",
       "      <td>5.0</td>\n",
       "    </tr>\n",
       "    <tr>\n",
       "      <th>max_rat_flag</th>\n",
       "      <td>19272.0</td>\n",
       "      <td>3.981424</td>\n",
       "      <td>0.241223</td>\n",
       "      <td>2.0</td>\n",
       "      <td>4.0</td>\n",
       "      <td>4.0</td>\n",
       "      <td>4.0</td>\n",
       "      <td>5.0</td>\n",
       "    </tr>\n",
       "    <tr>\n",
       "      <th>is_5g_base_cover</th>\n",
       "      <td>19272.0</td>\n",
       "      <td>0.340235</td>\n",
       "      <td>0.473800</td>\n",
       "      <td>0.0</td>\n",
       "      <td>0.0</td>\n",
       "      <td>0.0</td>\n",
       "      <td>1.0</td>\n",
       "      <td>1.0</td>\n",
       "    </tr>\n",
       "    <tr>\n",
       "      <th>is_work_5g_cover</th>\n",
       "      <td>19272.0</td>\n",
       "      <td>0.223744</td>\n",
       "      <td>0.416763</td>\n",
       "      <td>0.0</td>\n",
       "      <td>0.0</td>\n",
       "      <td>0.0</td>\n",
       "      <td>0.0</td>\n",
       "      <td>1.0</td>\n",
       "    </tr>\n",
       "    <tr>\n",
       "      <th>is_home_5g_cover</th>\n",
       "      <td>19272.0</td>\n",
       "      <td>0.208800</td>\n",
       "      <td>0.406462</td>\n",
       "      <td>0.0</td>\n",
       "      <td>0.0</td>\n",
       "      <td>0.0</td>\n",
       "      <td>0.0</td>\n",
       "      <td>1.0</td>\n",
       "    </tr>\n",
       "    <tr>\n",
       "      <th>is_work_5g_cover_l01</th>\n",
       "      <td>19272.0</td>\n",
       "      <td>0.162256</td>\n",
       "      <td>0.368695</td>\n",
       "      <td>0.0</td>\n",
       "      <td>0.0</td>\n",
       "      <td>0.0</td>\n",
       "      <td>0.0</td>\n",
       "      <td>1.0</td>\n",
       "    </tr>\n",
       "    <tr>\n",
       "      <th>is_home_5g_cover_l01</th>\n",
       "      <td>19272.0</td>\n",
       "      <td>0.158780</td>\n",
       "      <td>0.365480</td>\n",
       "      <td>0.0</td>\n",
       "      <td>0.0</td>\n",
       "      <td>0.0</td>\n",
       "      <td>0.0</td>\n",
       "      <td>1.0</td>\n",
       "    </tr>\n",
       "    <tr>\n",
       "      <th>is_work_5g_cover_l02</th>\n",
       "      <td>19272.0</td>\n",
       "      <td>0.233447</td>\n",
       "      <td>0.423036</td>\n",
       "      <td>0.0</td>\n",
       "      <td>0.0</td>\n",
       "      <td>0.0</td>\n",
       "      <td>0.0</td>\n",
       "      <td>1.0</td>\n",
       "    </tr>\n",
       "    <tr>\n",
       "      <th>is_home_5g_cover_l02</th>\n",
       "      <td>19272.0</td>\n",
       "      <td>0.223329</td>\n",
       "      <td>0.416488</td>\n",
       "      <td>0.0</td>\n",
       "      <td>0.0</td>\n",
       "      <td>0.0</td>\n",
       "      <td>0.0</td>\n",
       "      <td>1.0</td>\n",
       "    </tr>\n",
       "    <tr>\n",
       "      <th>activity_type</th>\n",
       "      <td>19272.0</td>\n",
       "      <td>3.936281</td>\n",
       "      <td>1.330883</td>\n",
       "      <td>1.0</td>\n",
       "      <td>4.0</td>\n",
       "      <td>4.0</td>\n",
       "      <td>4.0</td>\n",
       "      <td>14.0</td>\n",
       "    </tr>\n",
       "    <tr>\n",
       "      <th>is_act_expire</th>\n",
       "      <td>19272.0</td>\n",
       "      <td>1.301318</td>\n",
       "      <td>0.673726</td>\n",
       "      <td>1.0</td>\n",
       "      <td>1.0</td>\n",
       "      <td>1.0</td>\n",
       "      <td>1.0</td>\n",
       "      <td>3.0</td>\n",
       "    </tr>\n",
       "    <tr>\n",
       "      <th>comp_type</th>\n",
       "      <td>19272.0</td>\n",
       "      <td>1.551629</td>\n",
       "      <td>1.293370</td>\n",
       "      <td>1.0</td>\n",
       "      <td>1.0</td>\n",
       "      <td>1.0</td>\n",
       "      <td>1.0</td>\n",
       "      <td>7.0</td>\n",
       "    </tr>\n",
       "    <tr>\n",
       "      <th>call_days</th>\n",
       "      <td>19272.0</td>\n",
       "      <td>20.655407</td>\n",
       "      <td>9.170208</td>\n",
       "      <td>0.0</td>\n",
       "      <td>14.0</td>\n",
       "      <td>24.0</td>\n",
       "      <td>29.0</td>\n",
       "      <td>30.0</td>\n",
       "    </tr>\n",
       "    <tr>\n",
       "      <th>re_call10</th>\n",
       "      <td>19272.0</td>\n",
       "      <td>20.560399</td>\n",
       "      <td>44.895692</td>\n",
       "      <td>0.0</td>\n",
       "      <td>1.0</td>\n",
       "      <td>5.0</td>\n",
       "      <td>21.0</td>\n",
       "      <td>1264.0</td>\n",
       "    </tr>\n",
       "    <tr>\n",
       "      <th>long_call10</th>\n",
       "      <td>19272.0</td>\n",
       "      <td>3.798672</td>\n",
       "      <td>7.624397</td>\n",
       "      <td>0.0</td>\n",
       "      <td>0.0</td>\n",
       "      <td>1.0</td>\n",
       "      <td>4.0</td>\n",
       "      <td>180.0</td>\n",
       "    </tr>\n",
       "    <tr>\n",
       "      <th>bank_cnt</th>\n",
       "      <td>19272.0</td>\n",
       "      <td>19.333022</td>\n",
       "      <td>24.962383</td>\n",
       "      <td>0.0</td>\n",
       "      <td>1.0</td>\n",
       "      <td>10.0</td>\n",
       "      <td>27.0</td>\n",
       "      <td>238.0</td>\n",
       "    </tr>\n",
       "    <tr>\n",
       "      <th>active_days01</th>\n",
       "      <td>19272.0</td>\n",
       "      <td>14.288086</td>\n",
       "      <td>11.179457</td>\n",
       "      <td>0.0</td>\n",
       "      <td>3.0</td>\n",
       "      <td>13.0</td>\n",
       "      <td>26.0</td>\n",
       "      <td>30.0</td>\n",
       "    </tr>\n",
       "    <tr>\n",
       "      <th>active_days02</th>\n",
       "      <td>19272.0</td>\n",
       "      <td>0.440899</td>\n",
       "      <td>1.904751</td>\n",
       "      <td>0.0</td>\n",
       "      <td>0.0</td>\n",
       "      <td>0.0</td>\n",
       "      <td>0.0</td>\n",
       "      <td>30.0</td>\n",
       "    </tr>\n",
       "    <tr>\n",
       "      <th>active_days03</th>\n",
       "      <td>19272.0</td>\n",
       "      <td>0.115868</td>\n",
       "      <td>1.091627</td>\n",
       "      <td>0.0</td>\n",
       "      <td>0.0</td>\n",
       "      <td>0.0</td>\n",
       "      <td>0.0</td>\n",
       "      <td>30.0</td>\n",
       "    </tr>\n",
       "    <tr>\n",
       "      <th>active_days04</th>\n",
       "      <td>19272.0</td>\n",
       "      <td>0.000156</td>\n",
       "      <td>0.016107</td>\n",
       "      <td>0.0</td>\n",
       "      <td>0.0</td>\n",
       "      <td>0.0</td>\n",
       "      <td>0.0</td>\n",
       "      <td>2.0</td>\n",
       "    </tr>\n",
       "    <tr>\n",
       "      <th>active_days05</th>\n",
       "      <td>19272.0</td>\n",
       "      <td>0.894406</td>\n",
       "      <td>3.075732</td>\n",
       "      <td>0.0</td>\n",
       "      <td>0.0</td>\n",
       "      <td>0.0</td>\n",
       "      <td>0.0</td>\n",
       "      <td>30.0</td>\n",
       "    </tr>\n",
       "    <tr>\n",
       "      <th>game_app_flux</th>\n",
       "      <td>19272.0</td>\n",
       "      <td>0.013180</td>\n",
       "      <td>0.646103</td>\n",
       "      <td>0.0</td>\n",
       "      <td>0.0</td>\n",
       "      <td>0.0</td>\n",
       "      <td>0.0</td>\n",
       "      <td>60.0</td>\n",
       "    </tr>\n",
       "    <tr>\n",
       "      <th>live_app_flux</th>\n",
       "      <td>19272.0</td>\n",
       "      <td>4150.991594</td>\n",
       "      <td>58685.155467</td>\n",
       "      <td>0.0</td>\n",
       "      <td>0.0</td>\n",
       "      <td>0.0</td>\n",
       "      <td>0.0</td>\n",
       "      <td>2933638.0</td>\n",
       "    </tr>\n",
       "    <tr>\n",
       "      <th>video_app_flux</th>\n",
       "      <td>19272.0</td>\n",
       "      <td>5164.074875</td>\n",
       "      <td>8792.798669</td>\n",
       "      <td>0.0</td>\n",
       "      <td>3.0</td>\n",
       "      <td>1095.0</td>\n",
       "      <td>6812.0</td>\n",
       "      <td>135286.0</td>\n",
       "    </tr>\n",
       "    <tr>\n",
       "      <th>city_5g_ratio</th>\n",
       "      <td>19272.0</td>\n",
       "      <td>0.000000</td>\n",
       "      <td>0.000000</td>\n",
       "      <td>0.0</td>\n",
       "      <td>0.0</td>\n",
       "      <td>0.0</td>\n",
       "      <td>0.0</td>\n",
       "      <td>0.0</td>\n",
       "    </tr>\n",
       "    <tr>\n",
       "      <th>city_level</th>\n",
       "      <td>19272.0</td>\n",
       "      <td>4.043379</td>\n",
       "      <td>2.590981</td>\n",
       "      <td>1.0</td>\n",
       "      <td>1.0</td>\n",
       "      <td>4.0</td>\n",
       "      <td>7.0</td>\n",
       "      <td>7.0</td>\n",
       "    </tr>\n",
       "    <tr>\n",
       "      <th>Target</th>\n",
       "      <td>19272.0</td>\n",
       "      <td>0.481164</td>\n",
       "      <td>0.499658</td>\n",
       "      <td>0.0</td>\n",
       "      <td>0.0</td>\n",
       "      <td>0.0</td>\n",
       "      <td>1.0</td>\n",
       "      <td>1.0</td>\n",
       "    </tr>\n",
       "  </tbody>\n",
       "</table>\n",
       "</div>"
      ],
      "text/plain": [
       "                        count         mean           std   min    25%     50%  \\\n",
       "prov_id               19272.0    53.286166     26.115806  10.0   31.0    51.0   \n",
       "chnl_type             19272.0     7.156289      2.534053   1.0    7.0     7.0   \n",
       "service_type          19272.0     3.958541      0.335401   1.0    4.0     4.0   \n",
       "product_type          19272.0     3.775114      1.249012   2.0    3.0     4.0   \n",
       "innet_months          19272.0    56.651048     44.412200   1.0   23.0    40.0   \n",
       "total_flux            19272.0     8.662308      1.969229   0.0    8.0     9.0   \n",
       "total_fee             19272.0   114.323526     75.003927  50.0   69.0    98.0   \n",
       "pay_fee               19272.0   735.991335   1287.265573   0.0  405.0   600.0   \n",
       "sex                   19272.0     0.708956      0.454256   0.0    0.0     1.0   \n",
       "age                   19272.0    34.131590     10.221831  18.0   26.0    32.0   \n",
       "manu_name             19272.0     4.140048      2.053347   1.0    2.0     4.0   \n",
       "term_type             19272.0     3.977377      0.383223   0.0    4.0     4.0   \n",
       "max_rat_flag          19272.0     3.981424      0.241223   2.0    4.0     4.0   \n",
       "is_5g_base_cover      19272.0     0.340235      0.473800   0.0    0.0     0.0   \n",
       "is_work_5g_cover      19272.0     0.223744      0.416763   0.0    0.0     0.0   \n",
       "is_home_5g_cover      19272.0     0.208800      0.406462   0.0    0.0     0.0   \n",
       "is_work_5g_cover_l01  19272.0     0.162256      0.368695   0.0    0.0     0.0   \n",
       "is_home_5g_cover_l01  19272.0     0.158780      0.365480   0.0    0.0     0.0   \n",
       "is_work_5g_cover_l02  19272.0     0.233447      0.423036   0.0    0.0     0.0   \n",
       "is_home_5g_cover_l02  19272.0     0.223329      0.416488   0.0    0.0     0.0   \n",
       "activity_type         19272.0     3.936281      1.330883   1.0    4.0     4.0   \n",
       "is_act_expire         19272.0     1.301318      0.673726   1.0    1.0     1.0   \n",
       "comp_type             19272.0     1.551629      1.293370   1.0    1.0     1.0   \n",
       "call_days             19272.0    20.655407      9.170208   0.0   14.0    24.0   \n",
       "re_call10             19272.0    20.560399     44.895692   0.0    1.0     5.0   \n",
       "long_call10           19272.0     3.798672      7.624397   0.0    0.0     1.0   \n",
       "bank_cnt              19272.0    19.333022     24.962383   0.0    1.0    10.0   \n",
       "active_days01         19272.0    14.288086     11.179457   0.0    3.0    13.0   \n",
       "active_days02         19272.0     0.440899      1.904751   0.0    0.0     0.0   \n",
       "active_days03         19272.0     0.115868      1.091627   0.0    0.0     0.0   \n",
       "active_days04         19272.0     0.000156      0.016107   0.0    0.0     0.0   \n",
       "active_days05         19272.0     0.894406      3.075732   0.0    0.0     0.0   \n",
       "game_app_flux         19272.0     0.013180      0.646103   0.0    0.0     0.0   \n",
       "live_app_flux         19272.0  4150.991594  58685.155467   0.0    0.0     0.0   \n",
       "video_app_flux        19272.0  5164.074875   8792.798669   0.0    3.0  1095.0   \n",
       "city_5g_ratio         19272.0     0.000000      0.000000   0.0    0.0     0.0   \n",
       "city_level            19272.0     4.043379      2.590981   1.0    1.0     4.0   \n",
       "Target                19272.0     0.481164      0.499658   0.0    0.0     0.0   \n",
       "\n",
       "                         75%        max  \n",
       "prov_id                 76.0       97.0  \n",
       "chnl_type                9.0       10.0  \n",
       "service_type             4.0        5.0  \n",
       "product_type             5.0        6.0  \n",
       "innet_months            83.0      272.0  \n",
       "total_flux              10.0       12.0  \n",
       "total_fee              130.0     3000.0  \n",
       "pay_fee                860.0    86320.0  \n",
       "sex                      1.0        1.0  \n",
       "age                     41.0       60.0  \n",
       "manu_name                5.0       12.0  \n",
       "term_type                4.0        5.0  \n",
       "max_rat_flag             4.0        5.0  \n",
       "is_5g_base_cover         1.0        1.0  \n",
       "is_work_5g_cover         0.0        1.0  \n",
       "is_home_5g_cover         0.0        1.0  \n",
       "is_work_5g_cover_l01     0.0        1.0  \n",
       "is_home_5g_cover_l01     0.0        1.0  \n",
       "is_work_5g_cover_l02     0.0        1.0  \n",
       "is_home_5g_cover_l02     0.0        1.0  \n",
       "activity_type            4.0       14.0  \n",
       "is_act_expire            1.0        3.0  \n",
       "comp_type                1.0        7.0  \n",
       "call_days               29.0       30.0  \n",
       "re_call10               21.0     1264.0  \n",
       "long_call10              4.0      180.0  \n",
       "bank_cnt                27.0      238.0  \n",
       "active_days01           26.0       30.0  \n",
       "active_days02            0.0       30.0  \n",
       "active_days03            0.0       30.0  \n",
       "active_days04            0.0        2.0  \n",
       "active_days05            0.0       30.0  \n",
       "game_app_flux            0.0       60.0  \n",
       "live_app_flux            0.0  2933638.0  \n",
       "video_app_flux        6812.0   135286.0  \n",
       "city_5g_ratio            0.0        0.0  \n",
       "city_level               7.0        7.0  \n",
       "Target                   1.0        1.0  "
      ]
     },
     "execution_count": 63,
     "metadata": {},
     "output_type": "execute_result"
    }
   ],
   "source": [
    "df.describe().T"
   ]
  },
  {
   "cell_type": "code",
   "execution_count": 64,
   "id": "11b7ccfd-0f70-4dd8-92ee-7cbd037d2c9d",
   "metadata": {},
   "outputs": [
    {
     "data": {
      "text/plain": [
       "prov_id                 0\n",
       "chnl_type               0\n",
       "service_type            0\n",
       "product_type            0\n",
       "innet_months            0\n",
       "total_flux              0\n",
       "total_fee               0\n",
       "pay_fee                 0\n",
       "sex                     0\n",
       "age                     0\n",
       "manu_name               0\n",
       "term_type               0\n",
       "max_rat_flag            0\n",
       "is_5g_base_cover        0\n",
       "is_work_5g_cover        0\n",
       "is_home_5g_cover        0\n",
       "is_work_5g_cover_l01    0\n",
       "is_home_5g_cover_l01    0\n",
       "is_work_5g_cover_l02    0\n",
       "is_home_5g_cover_l02    0\n",
       "activity_type           0\n",
       "is_act_expire           0\n",
       "comp_type               0\n",
       "call_days               0\n",
       "re_call10               0\n",
       "long_call10             0\n",
       "bank_cnt                0\n",
       "active_days01           0\n",
       "active_days02           0\n",
       "active_days03           0\n",
       "active_days04           0\n",
       "active_days05           0\n",
       "game_app_flux           0\n",
       "live_app_flux           0\n",
       "video_app_flux          0\n",
       "city_5g_ratio           0\n",
       "city_level              0\n",
       "Target                  0\n",
       "dtype: int64"
      ]
     },
     "execution_count": 64,
     "metadata": {},
     "output_type": "execute_result"
    }
   ],
   "source": [
    "df.isna().sum()"
   ]
  },
  {
   "cell_type": "code",
   "execution_count": 65,
   "id": "756698a6-da97-44a4-95c3-f44ed36d5861",
   "metadata": {},
   "outputs": [
    {
     "data": {
      "image/png": "[encoded data removed]",
      "text/plain": [
       "<Figure size 640x480 with 1 Axes>"
      ]
     },
     "metadata": {},
     "output_type": "display_data"
    }
   ],
   "source": [
    "import matplotlib.pyplot as plt\n",
    "\n",
    "# Assuming 'df' is your DataFrame and 'Target' is the name of the target feature\n",
    "target_counts = df['Target'].value_counts()\n",
    "\n",
    "# Plotting\n",
    "plt.bar(target_counts.index.astype(str), target_counts.values)\n",
    "plt.xlabel('5_G')\n",
    "plt.ylabel('Count')\n",
    "plt.title('5G Vission')\n",
    "plt.show()"
   ]
  },
  {
   "cell_type": "code",
   "execution_count": 66,
   "id": "b7528316-11a8-4b5b-8b3d-730c716b18c6",
   "metadata": {},
   "outputs": [
    {
     "data": {
      "image/png": "[encoded data removed]",
      "text/plain": [
       "<Figure size 640x480 with 1 Axes>"
      ]
     },
     "metadata": {},
     "output_type": "display_data"
    }
   ],
   "source": [
    "df['age'].hist(bins=50)\n",
    "plt.show()"
   ]
  },
  {
   "cell_type": "code",
   "execution_count": 67,
   "id": "37819f2b-067c-4a51-8bfd-a3d11c7d985a",
   "metadata": {},
   "outputs": [
    {
     "data": {
      "text/plain": [
       "<Axes: >"
      ]
     },
     "execution_count": 67,
     "metadata": {},
     "output_type": "execute_result"
    },
    {
     "data": {
      "image/png": "[encoded data removed]",
      "text/plain": [
       "<Figure size 640x480 with 2 Axes>"
      ]
     },
     "metadata": {},
     "output_type": "display_data"
    }
   ],
   "source": [
    "sns.heatmap(df.isnull())"
   ]
  },
  {
   "cell_type": "code",
   "execution_count": 68,
   "id": "b06596a3-9a86-4097-8ace-449e1519bd72",
   "metadata": {},
   "outputs": [
    {
     "data": {
      "image/png": "[encoded data removed]",
      "text/plain": [
       "<Figure size 640x480 with 1 Axes>"
      ]
     },
     "metadata": {},
     "output_type": "display_data"
    },
    {
     "data": {
      "text/plain": [
       "<Figure size 500x500 with 0 Axes>"
      ]
     },
     "metadata": {},
     "output_type": "display_data"
    }
   ],
   "source": [
    "plt.bar(df[\"is_5g_base_cover\"],df[\"age\"],color=\"orange\")\n",
    "plt.grid()\n",
    "plt.figure(figsize=(5,5))\n",
    "plt.show()"
   ]
  },
  {
   "cell_type": "code",
   "execution_count": null,
   "id": "c63b1a77-fd8e-4572-ae4d-e0b6adbe18c8",
   "metadata": {},
   "outputs": [],
   "source": []
  },
  {
   "cell_type": "code",
   "execution_count": null,
   "id": "da9fd2ca-4ab2-41bb-8d8e-40db6f0af681",
   "metadata": {},
   "outputs": [],
   "source": []
  },
  {
   "cell_type": "code",
   "execution_count": null,
   "id": "d7112f32-f555-46d9-b802-369134b8a451",
   "metadata": {},
   "outputs": [],
   "source": []
  },
  {
   "cell_type": "code",
   "execution_count": null,
   "id": "497e1f7a-ff9d-4035-bacf-463998853eb1",
   "metadata": {},
   "outputs": [],
   "source": []
  },
  {
   "cell_type": "code",
   "execution_count": 69,
   "id": "108593b7-5ba6-4125-84e2-01b9864a4efb",
   "metadata": {},
   "outputs": [],
   "source": [
    "X = df.drop('Target', axis=1)\n",
    "y = df['Target']"
   ]
  },
  {
   "cell_type": "code",
   "execution_count": 70,
   "id": "748b1fad-104e-4512-857c-5d5733b1312e",
   "metadata": {},
   "outputs": [
    {
     "data": {
      "text/plain": [
       "((19272, 37), (19272,))"
      ]
     },
     "execution_count": 70,
     "metadata": {},
     "output_type": "execute_result"
    }
   ],
   "source": [
    "\n",
    "X.shape, y.shape"
   ]
  },
  {
   "cell_type": "code",
   "execution_count": 40,
   "id": "20b66a3f-7f10-41d5-a084-4ab184bd690e",
   "metadata": {},
   "outputs": [],
   "source": [
    "# import StandardScaler to perform scaling\n",
    "from sklearn.preprocessing import StandardScaler \n",
    "scaler = StandardScaler()"
   ]
  },
  {
   "cell_type": "code",
   "execution_count": 41,
   "id": "35f7f314-9d97-4083-8b2f-5cd2f2099dd7",
   "metadata": {},
   "outputs": [
    {
     "data": {
      "text/plain": [
       "array([[-0.66192155, -0.06167708,  0.12361363, ..., -0.58732254,\n",
       "         0.        , -0.40270696],\n",
       "       [ 0.86975768, -0.06167708,  0.12361363, ..., -0.44686305,\n",
       "         0.        , -0.40270696],\n",
       "       [ 1.17609352,  1.12222793,  0.12361363, ..., -0.45152608,\n",
       "         0.        , -0.78867119],\n",
       "       ...,\n",
       "       [-0.08754184, -0.45631208,  0.12361363, ..., -0.58425177,\n",
       "         0.        , -1.17463541],\n",
       "       [-0.08754184, -1.24558208,  0.12361363, ..., -0.07984865,\n",
       "         0.        ,  0.7551857 ],\n",
       "       [ 0.67829777,  0.72759293,  0.12361363, ...,  3.01162498,\n",
       "         0.        , -0.78867119]])"
      ]
     },
     "execution_count": 41,
     "metadata": {},
     "output_type": "execute_result"
    }
   ],
   "source": [
    "X = scaler.fit_transform(X)\n",
    "X"
   ]
  },
  {
   "cell_type": "markdown",
   "id": "a6212d91-fa31-4d84-b446-55acef9b0844",
   "metadata": {},
   "source": [
    "# Logistic regression"
   ]
  },
  {
   "cell_type": "code",
   "execution_count": 71,
   "id": "04d605a9-d605-410a-bcd9-fa117c64b789",
   "metadata": {},
   "outputs": [],
   "source": [
    "# import train-test split \n",
    "from sklearn.model_selection import train_test_split"
   ]
  },
  {
   "cell_type": "code",
   "execution_count": 72,
   "id": "4cdea3c0-d266-4680-8242-dff725d6cbd6",
   "metadata": {},
   "outputs": [],
   "source": [
    "X_train, X_test, y_train, y_test = train_test_split(X, y, test_size=0.33, random_state=42)"
   ]
  },
  {
   "cell_type": "code",
   "execution_count": 44,
   "id": "e1a26f0a-3649-4e5e-ac2f-a30a2cfb68fd",
   "metadata": {},
   "outputs": [
    {
     "name": "stdout",
     "output_type": "stream",
     "text": [
      "0.7437106918238994\n"
     ]
    }
   ],
   "source": [
    "from sklearn.linear_model import LogisticRegression\n",
    "from sklearn.metrics import confusion_matrix, accuracy_score, classification_report\n",
    "# Creating model object\n",
    "model_lg = LogisticRegression(max_iter=120,random_state=0, n_jobs=20)\n",
    "# Training Model\n",
    "model_lg.fit(X_train, y_train)\n",
    "LogisticRegression(max_iter=120, n_jobs=20, random_state=0)\n",
    "# Making Prediction\n",
    "pred_lg = model_lg.predict(X_test)\n",
    "# Calculating Accuracy Score\n",
    "lg = accuracy_score(y_test, pred_lg)\n",
    "print(lg)"
   ]
  },
  {
   "cell_type": "code",
   "execution_count": 45,
   "id": "eb5f91e8-9d5a-45e9-8c65-63a5fa1f6af5",
   "metadata": {},
   "outputs": [
    {
     "name": "stdout",
     "output_type": "stream",
     "text": [
      "              precision    recall  f1-score   support\n",
      "\n",
      "           0       0.75      0.76      0.76      3304\n",
      "           1       0.74      0.72      0.73      3056\n",
      "\n",
      "    accuracy                           0.74      6360\n",
      "   macro avg       0.74      0.74      0.74      6360\n",
      "weighted avg       0.74      0.74      0.74      6360\n",
      "\n"
     ]
    }
   ],
   "source": [
    "print(classification_report(y_test,pred_lg))"
   ]
  },
  {
   "cell_type": "code",
   "execution_count": 46,
   "id": "fc75ab7f-4fb2-4b5e-827f-1d5cbeeedf10",
   "metadata": {},
   "outputs": [
    {
     "data": {
      "text/plain": [
       "<Axes: >"
      ]
     },
     "execution_count": 46,
     "metadata": {},
     "output_type": "execute_result"
    },
    {
     "data": {
      "image/png": "[encoded data removed]",
      "text/plain": [
       "<Figure size 640x480 with 2 Axes>"
      ]
     },
     "metadata": {},
     "output_type": "display_data"
    }
   ],
   "source": [
    "# confusion Maxtrix\n",
    "cm1 = confusion_matrix(y_test, pred_lg)\n",
    "sns.heatmap(cm1/np.sum(cm1), annot = True, fmt=  '0.2%', cmap = 'Reds')"
   ]
  },
  {
   "cell_type": "markdown",
   "id": "58f60f2a-5985-4d2f-b42c-473cdc268d57",
   "metadata": {},
   "source": [
    "# Decision TreeClassifier"
   ]
  },
  {
   "cell_type": "code",
   "execution_count": 47,
   "id": "4e89f988-d6e6-4fb1-861b-bd39ff007053",
   "metadata": {},
   "outputs": [
    {
     "name": "stdout",
     "output_type": "stream",
     "text": [
      "0.7786163522012579\n"
     ]
    }
   ],
   "source": [
    "from sklearn.tree import DecisionTreeClassifier\n",
    "# Creating model object\n",
    "model_dt = DecisionTreeClassifier( max_depth=4, random_state=42)\n",
    "# Training Model\n",
    "model_dt.fit(X_train,y_train)\n",
    "# Making Prediction\n",
    "pred_dt = model_dt.predict(X_test)\n",
    "# Calculating Accuracy Score\n",
    "dt = accuracy_score(y_test, pred_dt)\n",
    "print(dt)"
   ]
  },
  {
   "cell_type": "code",
   "execution_count": 48,
   "id": "c9b62224-b937-43fd-b71e-e65d2298ac0b",
   "metadata": {},
   "outputs": [
    {
     "name": "stdout",
     "output_type": "stream",
     "text": [
      "              precision    recall  f1-score   support\n",
      "\n",
      "           0       0.83      0.72      0.77      3304\n",
      "           1       0.73      0.84      0.79      3056\n",
      "\n",
      "    accuracy                           0.78      6360\n",
      "   macro avg       0.78      0.78      0.78      6360\n",
      "weighted avg       0.79      0.78      0.78      6360\n",
      "\n"
     ]
    }
   ],
   "source": [
    "print(classification_report(y_test,pred_dt))"
   ]
  },
  {
   "cell_type": "code",
   "execution_count": 49,
   "id": "110ae7a1-8a2c-4fe7-abef-6741d2ef35a4",
   "metadata": {},
   "outputs": [
    {
     "data": {
      "text/plain": [
       "<Axes: >"
      ]
     },
     "execution_count": 49,
     "metadata": {},
     "output_type": "execute_result"
    },
    {
     "data": {
      "image/png": "[encoded data removed]",
      "text/plain": [
       "<Figure size 640x480 with 2 Axes>"
      ]
     },
     "metadata": {},
     "output_type": "display_data"
    }
   ],
   "source": [
    "# confusion Maxtrix\n",
    "cm2 = confusion_matrix(y_test, pred_dt)\n",
    "sns.heatmap(cm2/np.sum(cm2), annot = True, fmt=  '0.2%', cmap = 'Reds')"
   ]
  },
  {
   "cell_type": "markdown",
   "id": "fb74d42c-f83b-4527-9b66-d6755c12ebc8",
   "metadata": {},
   "source": [
    "# Random Forest"
   ]
  },
  {
   "cell_type": "code",
   "execution_count": 50,
   "id": "640e0cf3-7b88-438b-b3d1-12381d81f78c",
   "metadata": {},
   "outputs": [
    {
     "name": "stdout",
     "output_type": "stream",
     "text": [
      "0.7462264150943396\n"
     ]
    }
   ],
   "source": [
    "from sklearn.ensemble import RandomForestClassifier\n",
    "# Creating model object\n",
    "model_rf = RandomForestClassifier(n_estimators=300,min_samples_leaf=0.16, random_state=42)\n",
    "# Training Model\n",
    "model_rf.fit(X_train, y_train)\n",
    "# Making Prediction\n",
    "pred_rf = model_rf.predict(X_test)\n",
    "# Calculating Accuracy Score\n",
    "rf = accuracy_score(y_test, pred_rf)\n",
    "print(rf)"
   ]
  },
  {
   "cell_type": "code",
   "execution_count": 51,
   "id": "00755736-380f-47b3-bb65-128e8701f7ff",
   "metadata": {},
   "outputs": [
    {
     "name": "stdout",
     "output_type": "stream",
     "text": [
      "              precision    recall  f1-score   support\n",
      "\n",
      "           0       0.76      0.75      0.76      3304\n",
      "           1       0.73      0.74      0.74      3056\n",
      "\n",
      "    accuracy                           0.75      6360\n",
      "   macro avg       0.75      0.75      0.75      6360\n",
      "weighted avg       0.75      0.75      0.75      6360\n",
      "\n"
     ]
    }
   ],
   "source": [
    "print(classification_report(y_test,pred_rf))"
   ]
  },
  {
   "cell_type": "code",
   "execution_count": 52,
   "id": "2928057b-364c-4c68-9d0f-5fc057d93c6d",
   "metadata": {},
   "outputs": [
    {
     "data": {
      "text/plain": [
       "<Axes: >"
      ]
     },
     "execution_count": 52,
     "metadata": {},
     "output_type": "execute_result"
    },
    {
     "data": {
      "image/png": "[encoded data removed]",
      "text/plain": [
       "<Figure size 640x480 with 2 Axes>"
      ]
     },
     "metadata": {},
     "output_type": "display_data"
    }
   ],
   "source": [
    "# confusion Maxtrix\n",
    "cm3 = confusion_matrix(y_test, pred_rf)\n",
    "sns.heatmap(cm3/np.sum(cm3), annot = True, fmt=  '0.2%', cmap = 'Reds')"
   ]
  },
  {
   "cell_type": "markdown",
   "id": "b022517a-d8d5-471d-bcad-967f08d3c7e0",
   "metadata": {},
   "source": [
    "# KNN"
   ]
  },
  {
   "cell_type": "code",
   "execution_count": 53,
   "id": "0cdcfeec-a358-4c39-b75b-07d92711ccc2",
   "metadata": {},
   "outputs": [
    {
     "name": "stdout",
     "output_type": "stream",
     "text": [
      "0.7284591194968554\n"
     ]
    }
   ],
   "source": [
    "from sklearn.neighbors import KNeighborsClassifier\n",
    "# Creating model object\n",
    "model_kn = KNeighborsClassifier(n_neighbors=9, leaf_size=20)\n",
    "# Training Model\n",
    "model_kn.fit(X_train, y_train)\n",
    "# Making Prediction\n",
    "pred_kn = model_kn.predict(X_test)\n",
    "# Calculating Accuracy Score\n",
    "kn = accuracy_score(y_test, pred_kn)\n",
    "print(kn)"
   ]
  },
  {
   "cell_type": "code",
   "execution_count": 54,
   "id": "758f7c74-e4d6-4fe5-ba9e-3b634fd7a88f",
   "metadata": {},
   "outputs": [
    {
     "name": "stdout",
     "output_type": "stream",
     "text": [
      "              precision    recall  f1-score   support\n",
      "\n",
      "           0       0.75      0.72      0.73      3304\n",
      "           1       0.71      0.74      0.72      3056\n",
      "\n",
      "    accuracy                           0.73      6360\n",
      "   macro avg       0.73      0.73      0.73      6360\n",
      "weighted avg       0.73      0.73      0.73      6360\n",
      "\n"
     ]
    }
   ],
   "source": [
    "print(classification_report(y_test,pred_kn))"
   ]
  },
  {
   "cell_type": "code",
   "execution_count": 55,
   "id": "b80af448-7092-46de-8153-720670b450b3",
   "metadata": {},
   "outputs": [
    {
     "data": {
      "text/plain": [
       "<Axes: >"
      ]
     },
     "execution_count": 55,
     "metadata": {},
     "output_type": "execute_result"
    },
    {
     "data": {
      "image/png": "[encoded data removed]",
      "text/plain": [
       "<Figure size 640x480 with 2 Axes>"
      ]
     },
     "metadata": {},
     "output_type": "display_data"
    }
   ],
   "source": [
    "# confusion Maxtrix\n",
    "cm5 = confusion_matrix(y_test, pred_kn)\n",
    "sns.heatmap(cm5/np.sum(cm5), annot = True, fmt=  '0.2%', cmap = 'Reds')"
   ]
  },
  {
   "cell_type": "markdown",
   "id": "61089bb9-ee45-4f4c-a695-f473b9ea5f72",
   "metadata": {},
   "source": [
    "# Support Vector Machine"
   ]
  },
  {
   "cell_type": "code",
   "execution_count": 56,
   "id": "5988e117-3427-4e94-b408-6e1be32f4a01",
   "metadata": {},
   "outputs": [
    {
     "name": "stdout",
     "output_type": "stream",
     "text": [
      "0.780188679245283\n"
     ]
    }
   ],
   "source": [
    "from sklearn.svm import SVC, LinearSVC\n",
    "model_svm = SVC(kernel='rbf', random_state = 42)\n",
    "model_svm.fit(X_train, y_train)\n",
    "# Making Prediction\n",
    "pred_svm = model_svm.predict(X_test)\n",
    "# Calculating Accuracy Score\n",
    "sv = accuracy_score(y_test, pred_svm)\n",
    "print(sv)"
   ]
  },
  {
   "cell_type": "code",
   "execution_count": 57,
   "id": "a9730bb0-827c-449d-996e-da12091cd5d4",
   "metadata": {},
   "outputs": [
    {
     "name": "stdout",
     "output_type": "stream",
     "text": [
      "              precision    recall  f1-score   support\n",
      "\n",
      "           0       0.79      0.78      0.79      3304\n",
      "           1       0.77      0.78      0.77      3056\n",
      "\n",
      "    accuracy                           0.78      6360\n",
      "   macro avg       0.78      0.78      0.78      6360\n",
      "weighted avg       0.78      0.78      0.78      6360\n",
      "\n"
     ]
    }
   ],
   "source": [
    "print(classification_report(y_test,pred_svm))"
   ]
  },
  {
   "cell_type": "code",
   "execution_count": 58,
   "id": "cdd69ffc-49ab-4f01-8cb6-1a0e23f6fbdb",
   "metadata": {},
   "outputs": [
    {
     "data": {
      "text/plain": [
       "<Axes: >"
      ]
     },
     "execution_count": 58,
     "metadata": {},
     "output_type": "execute_result"
    },
    {
     "data": {
      "image/png": "[encoded data removed]",
      "text/plain": [
       "<Figure size 640x480 with 2 Axes>"
      ]
     },
     "metadata": {},
     "output_type": "display_data"
    }
   ],
   "source": [
    "# confusion Maxtrix\n",
    "cm6 = confusion_matrix(y_test, pred_svm)\n",
    "sns.heatmap(cm6/np.sum(cm6), annot = True, fmt=  '0.2%', cmap = 'Reds')"
   ]
  },
  {
   "cell_type": "markdown",
   "id": "9c8450c6-fd09-4a57-8e3b-042105a63f0d",
   "metadata": {},
   "source": [
    "# compiled results"
   ]
  },
  {
   "cell_type": "code",
   "execution_count": 59,
   "id": "22ad7652-e1e1-49b1-8659-fa7ed368b499",
   "metadata": {},
   "outputs": [
    {
     "data": {
      "text/html": [
       "<div>\n",
       "<style scoped>\n",
       "    .dataframe tbody tr th:only-of-type {\n",
       "        vertical-align: middle;\n",
       "    }\n",
       "\n",
       "    .dataframe tbody tr th {\n",
       "        vertical-align: top;\n",
       "    }\n",
       "\n",
       "    .dataframe thead th {\n",
       "        text-align: right;\n",
       "    }\n",
       "</style>\n",
       "<table border=\"1\" class=\"dataframe\">\n",
       "  <thead>\n",
       "    <tr style=\"text-align: right;\">\n",
       "      <th></th>\n",
       "      <th>Model</th>\n",
       "      <th>Accuracy_score</th>\n",
       "    </tr>\n",
       "  </thead>\n",
       "  <tbody>\n",
       "    <tr>\n",
       "      <th>4</th>\n",
       "      <td>SVM</td>\n",
       "      <td>0.780189</td>\n",
       "    </tr>\n",
       "    <tr>\n",
       "      <th>1</th>\n",
       "      <td>Decision Tree</td>\n",
       "      <td>0.778616</td>\n",
       "    </tr>\n",
       "    <tr>\n",
       "      <th>2</th>\n",
       "      <td>Random Forest</td>\n",
       "      <td>0.746226</td>\n",
       "    </tr>\n",
       "    <tr>\n",
       "      <th>0</th>\n",
       "      <td>Logistic Regression</td>\n",
       "      <td>0.743711</td>\n",
       "    </tr>\n",
       "    <tr>\n",
       "      <th>3</th>\n",
       "      <td>KNeighbours</td>\n",
       "      <td>0.728459</td>\n",
       "    </tr>\n",
       "  </tbody>\n",
       "</table>\n",
       "</div>"
      ],
      "text/plain": [
       "                 Model  Accuracy_score\n",
       "4                  SVM        0.780189\n",
       "1        Decision Tree        0.778616\n",
       "2        Random Forest        0.746226\n",
       "0  Logistic Regression        0.743711\n",
       "3          KNeighbours        0.728459"
      ]
     },
     "execution_count": 59,
     "metadata": {},
     "output_type": "execute_result"
    },
    {
     "data": {
      "image/png": "[encoded data removed]",
      "text/plain": [
       "<Figure size 640x480 with 1 Axes>"
      ]
     },
     "metadata": {},
     "output_type": "display_data"
    }
   ],
   "source": [
    "models = pd.DataFrame({\n",
    "    'Model':['Logistic Regression', 'Decision Tree', 'Random Forest', 'KNeighbours', 'SVM'],\n",
    "    'Accuracy_score' :[lg, dt, rf, kn, sv]\n",
    "})\n",
    "models\n",
    "sns.barplot(x='Accuracy_score', y='Model', data=models)\n",
    "\n",
    "models.sort_values(by='Accuracy_score', ascending=False)"
   ]
  },
  {
   "cell_type": "markdown",
   "id": "b0abb1b5-0b76-4ac5-adf2-e0b9e24017bf",
   "metadata": {},
   "source": [
    "# conclusion"
   ]
  },
  {
   "cell_type": "markdown",
   "id": "3279df35-1bb4-4507-902b-35f5e4cc6113",
   "metadata": {},
   "source": [
    "In my project the for the 5G Vission the SVM and Decision Tree in the Best and give the acurate answer and more acurate predicton "
   ]
  },
  {
   "cell_type": "code",
   "execution_count": null,
   "id": "1bebb5db-b07a-4d78-9a7e-1ba7ec69baeb",
   "metadata": {},
   "outputs": [],
   "source": []
  },
  {
   "cell_type": "code",
   "execution_count": null,
   "id": "a108a8cf-4c52-4bad-9443-cff6dc734974",
   "metadata": {},
   "outputs": [],
   "source": []
  },
  {
   "cell_type": "code",
   "execution_count": null,
   "id": "5e13d65b-308f-4289-97a4-f08b3395bf4c",
   "metadata": {},
   "outputs": [],
   "source": []
  },
  {
   "cell_type": "code",
   "execution_count": null,
   "id": "da2da26a-00f5-41f3-b35c-d89659f65b64",
   "metadata": {},
   "outputs": [],
   "source": []
  },
  {
   "cell_type": "code",
   "execution_count": null,
   "id": "68f5a60e-5b2b-4d23-b91d-0dea291b5489",
   "metadata": {},
   "outputs": [],
   "source": []
  },
  {
   "cell_type": "code",
   "execution_count": null,
   "id": "c0f0c351-6f41-4a92-98d1-8024f62c924e",
   "metadata": {},
   "outputs": [],
   "source": []
  },
  {
   "cell_type": "code",
   "execution_count": null,
   "id": "8c4c680a-4f3b-4ee9-8fa5-5fa6cd7434ea",
   "metadata": {},
   "outputs": [],
   "source": []
  },
  {
   "cell_type": "code",
   "execution_count": null,
   "id": "d92a2277-55c0-48b9-bb43-15bf976b19f3",
   "metadata": {},
   "outputs": [],
   "source": []
  },
  {
   "cell_type": "code",
   "execution_count": null,
   "id": "d1aa1a08-3c52-4eca-977d-ddb059ec8a5a",
   "metadata": {},
   "outputs": [],
   "source": []
  },
  {
   "cell_type": "code",
   "execution_count": null,
   "id": "f5fb827b-3d0e-49f1-bfd5-bc2fce67a291",
   "metadata": {},
   "outputs": [],
   "source": []
  },
  {
   "cell_type": "code",
   "execution_count": null,
   "id": "610e527d-c8f5-4972-8ee7-f714ef8dfecb",
   "metadata": {},
   "outputs": [],
   "source": []
  },
  {
   "cell_type": "code",
   "execution_count": null,
   "id": "2bf488d5-aa58-4c5d-9cb5-8e3a8366aebb",
   "metadata": {},
   "outputs": [],
   "source": []
  },
  {
   "cell_type": "code",
   "execution_count": null,
   "id": "0581a7b9-792a-4f56-8f2e-54bc5d865aab",
   "metadata": {},
   "outputs": [],
   "source": []
  },
  {
   "cell_type": "code",
   "execution_count": null,
   "id": "258c9931-cad8-45fd-8ebf-8c81ecb50197",
   "metadata": {},
   "outputs": [],
   "source": []
  },
  {
   "cell_type": "code",
   "execution_count": null,
   "id": "3475cd8b-9968-4a66-905b-e69a7074b23b",
   "metadata": {},
   "outputs": [],
   "source": []
  },
  {
   "cell_type": "code",
   "execution_count": null,
   "id": "222c04e3-e22b-4004-b97c-de6b80e2c3cf",
   "metadata": {},
   "outputs": [],
   "source": []
  },
  {
   "cell_type": "code",
   "execution_count": null,
   "id": "eae3a2d9-d2a3-4dae-8e60-72dbf84674e9",
   "metadata": {},
   "outputs": [],
   "source": []
  },
  {
   "cell_type": "code",
   "execution_count": null,
   "id": "c5870f68-3ce0-4beb-8a72-55c9e59b3e45",
   "metadata": {},
   "outputs": [],
   "source": []
  },
  {
   "cell_type": "code",
   "execution_count": null,
   "id": "a38da872-80ad-4886-9c27-de00594fb06a",
   "metadata": {},
   "outputs": [],
   "source": []
  },
  {
   "cell_type": "code",
   "execution_count": null,
   "id": "d22051d6-8336-4193-8888-48d8648874a0",
   "metadata": {},
   "outputs": [],
   "source": []
  }
 ],
 "metadata": {
  "kernelspec": {
   "display_name": "Python 3 (ipykernel)",
   "language": "python",
   "name": "python3"
  },
  "language_info": {
   "codemirror_mode": {
    "name": "ipython",
    "version": 3
   },
   "file_extension": ".py",
   "mimetype": "text/x-python",
   "name": "python",
   "nbconvert_exporter": "python",
   "pygments_lexer": "ipython3",
   "version": "3.11.7"
  }
 },
 "nbformat": 4,
 "nbformat_minor": 5
}
